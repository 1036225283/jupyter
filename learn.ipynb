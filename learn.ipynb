{
 "cells": [
  {
   "cell_type": "code",
   "execution_count": null,
   "metadata": {},
   "outputs": [],
   "source": [
    "import tensorflow as tf\n",
    "t  = tf.constant([1,2])\n",
    "print(t)\n",
    "\n"
   ]
  },
  {
   "cell_type": "code",
   "execution_count": null,
   "metadata": {},
   "outputs": [],
   "source": [
    "import tensorflow as tf\n",
    "import numpy as np\n",
    "\n",
    "# 使用numpy生成100个随机点\n",
    "\n",
    "x_data = np.random.rand(100)\n",
    "y_data = x_data * 0.4 + 0.6\n",
    "\n",
    "# 构造一个线性模型\n",
    "b = tf.Variable(3.)\n",
    "k = tf.Variable(2.)\n",
    "y = k * x_data + b\n",
    "\n",
    "# 二次代价函数\n",
    "loss = tf.reduce_mean(tf.square(y_data - y))\n",
    "\n",
    "# 定义一个梯度下降来继续训练的优化器\n",
    "\n",
    "optimizer = tf.train.GradientDescentOptimizer(0.1)\n",
    "\n",
    "# 最小化代价函数\n",
    "train = optimizer.minimize(loss)\n",
    "\n",
    "init = tf.global_variables_initializer()\n",
    "with tf.Session() as session:\n",
    "    session.run(init)\n",
    "    for step in range(1001):\n",
    "        session.run(train)\n",
    "        if step % 20 == 0:\n",
    "            print(step, session.run([k, b]))"
   ]
  },
  {
   "cell_type": "code",
   "execution_count": null,
   "metadata": {},
   "outputs": [],
   "source": [
    "import tensorflow as tf\n",
    "import numpy as np\n",
    "import matplotlib.pyplot as plt\n",
    "\n",
    "# 使用numpy生成200个点\n",
    "x_data = np.linspace(-0.5, 0.5, 200)[:, np.newaxis]  # -0.5 - 0.5的范围内生成200个点\n",
    "\n",
    "noise = np.random.normal(0, 0.02, x_data.shape)\n",
    "\n",
    "y_data = np.square(x_data) + noise\n",
    "\n",
    "# 定义两个placeholder\n",
    "x = tf.placeholder(tf.float32, [None, 1])\n",
    "y = tf.placeholder(tf.float32, [None, 1])\n",
    "\n",
    "# 定义权值\n",
    "Weights_L1 = tf.Variable(tf.random_normal([1, 10]))\n",
    "biases_L1 = tf.Variable(tf.zeros([1, 10]))\n",
    "WX_puls_b_L1 = tf.matmul(x, Weights_L1) + biases_L1\n",
    "L1 = tf.nn.tanh(WX_puls_b_L1)\n",
    "\n",
    "# 定义输出层\n",
    "weight_l2 = tf.Variable(tf.random_normal([10, 1]))\n",
    "bias_l2 = tf.Variable(tf.zeros([1, 1]))\n",
    "wx_plus_b_l2 = tf.matmul(L1, weight_l2) + bias_l2\n",
    "\n",
    "prediction = tf.nn.tanh(wx_plus_b_l2)\n",
    "\n",
    "# 二次函数\n",
    "loss = tf.reduce_mean(tf.square(y - prediction))\n",
    "# 梯度下降法\n",
    "train_step = tf.train.GradientDescentOptimizer(0.1).minimize(loss)\n",
    "\n",
    "with tf.Session() as session:\n",
    "    session.run(tf.global_variables_initializer())\n",
    "#     for _ in range(200):\n",
    "#         session.run(train_step, feed_dict={x: x_data, y: y_data})\n",
    "\n",
    "    # 获得预测值\n",
    "#     prediction_value = session.run(prediction, feed_dict={x: x_data})\n",
    "    #     画图\n",
    "    xx = np.arange(20)\n",
    "    yy = xx**2\n",
    "\n",
    "    plt.figure(figsize=(40,40))  #新开一个绘图，都在绘图会叠加在一起\n",
    "    plt.plot(xx, yy)\n",
    "    plt.scatter(xx, yy)\n",
    "    \n",
    "#     plt.scatter(x_data, y_data)\n",
    "#     plt.plot(x_data, prediction_value)\n"
   ]
  },
  {
   "cell_type": "code",
   "execution_count": null,
   "metadata": {},
   "outputs": [],
   "source": [
    "#Test \n",
    "import matplotlib.pyplot as plt\n",
    "import numpy as np\n",
    "\n",
    "x = np.arange(20)\n",
    "y = x**2\n",
    "\n",
    "plt.plot(x, y)\n",
    "\n",
    "a = 3;\n",
    "print(a)"
   ]
  },
  {
   "cell_type": "code",
   "execution_count": null,
   "metadata": {},
   "outputs": [],
   "source": []
  }
 ],
 "metadata": {
  "kernelspec": {
   "display_name": "Python 3",
   "language": "python",
   "name": "python3"
  },
  "language_info": {
   "codemirror_mode": {
    "name": "ipython",
    "version": 3
   },
   "file_extension": ".py",
   "mimetype": "text/x-python",
   "name": "python",
   "nbconvert_exporter": "python",
   "pygments_lexer": "ipython3",
   "version": "3.7.3"
  }
 },
 "nbformat": 4,
 "nbformat_minor": 2
}
